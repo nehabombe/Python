{
 "cells": [
  {
   "cell_type": "code",
   "execution_count": 2,
   "id": "0ea02b89",
   "metadata": {},
   "outputs": [],
   "source": [
    "import numpy as np"
   ]
  },
  {
   "cell_type": "code",
   "execution_count": 3,
   "id": "5c801903",
   "metadata": {},
   "outputs": [
    {
     "data": {
      "text/plain": [
       "list"
      ]
     },
     "execution_count": 3,
     "metadata": {},
     "output_type": "execute_result"
    }
   ],
   "source": [
    "list1 =[1,4,5,8]\n",
    "type(list1)"
   ]
  },
  {
   "cell_type": "code",
   "execution_count": 4,
   "id": "a2eb1070",
   "metadata": {},
   "outputs": [
    {
     "name": "stdout",
     "output_type": "stream",
     "text": [
      "1.24.3\n"
     ]
    }
   ],
   "source": [
    "print(np.__version__)"
   ]
  },
  {
   "cell_type": "code",
   "execution_count": 6,
   "id": "0647055c",
   "metadata": {},
   "outputs": [
    {
     "data": {
      "text/plain": [
       "array([1, 4, 5, 8])"
      ]
     },
     "execution_count": 6,
     "metadata": {},
     "output_type": "execute_result"
    }
   ],
   "source": [
    "arr = np.array(list1)\n",
    "arr"
   ]
  },
  {
   "cell_type": "code",
   "execution_count": null,
   "id": "808553f9",
   "metadata": {},
   "outputs": [],
   "source": [
    "list2=[1,3,5,\"python\"] #hetrogenous == home == string\n",
    "arr1 = np.array(list2) #1,3,5 == int ,\"python\" == str\n",
    "arr1,type(arr1)       #homegenous == str"
   ]
  },
  {
   "cell_type": "code",
   "execution_count": 7,
   "id": "0e35af27",
   "metadata": {},
   "outputs": [
    {
     "data": {
      "text/plain": [
       "(array([1, 2, 3, 5]), numpy.ndarray)"
      ]
     },
     "execution_count": 7,
     "metadata": {},
     "output_type": "execute_result"
    }
   ],
   "source": [
    "arr1 = np.array([1,2,3,5])\n",
    "arr1,type(arr1)"
   ]
  },
  {
   "cell_type": "markdown",
   "id": "ecfb2c8f",
   "metadata": {},
   "source": [
    "# Data type array\n"
   ]
  },
  {
   "cell_type": "code",
   "execution_count": 11,
   "id": "c2164a0f",
   "metadata": {},
   "outputs": [
    {
     "data": {
      "text/plain": [
       "(array([1, 2, 3, 5]), numpy.ndarray)"
      ]
     },
     "execution_count": 11,
     "metadata": {},
     "output_type": "execute_result"
    }
   ],
   "source": [
    "arr1 = np.array((1,2,3,5))\n",
    "arr1,type(arr1)"
   ]
  },
  {
   "cell_type": "code",
   "execution_count": null,
   "id": "b62ba67f",
   "metadata": {},
   "outputs": [],
   "source": [
    "list1=[1,3,4,5,6]\n",
    "arr2 = np.array\n",
    "float to int, complex,str\n",
    "complex to string\n"
   ]
  },
  {
   "cell_type": "code",
   "execution_count": 13,
   "id": "067d7b09",
   "metadata": {},
   "outputs": [
    {
     "data": {
      "text/plain": [
       "(array([1. , 4. , 5. , 7. , 0.3]), dtype('float64'))"
      ]
     },
     "execution_count": 13,
     "metadata": {},
     "output_type": "execute_result"
    }
   ],
   "source": [
    "array1 = np.array([1,4,5,7,0.3],dtype= 'float')\n",
    "array1 , array1.dtype"
   ]
  }
 ],
 "metadata": {
  "kernelspec": {
   "display_name": "Python 3 (ipykernel)",
   "language": "python",
   "name": "python3"
  },
  "language_info": {
   "codemirror_mode": {
    "name": "ipython",
    "version": 3
   },
   "file_extension": ".py",
   "mimetype": "text/x-python",
   "name": "python",
   "nbconvert_exporter": "python",
   "pygments_lexer": "ipython3",
   "version": "3.11.5"
  }
 },
 "nbformat": 4,
 "nbformat_minor": 5
}
